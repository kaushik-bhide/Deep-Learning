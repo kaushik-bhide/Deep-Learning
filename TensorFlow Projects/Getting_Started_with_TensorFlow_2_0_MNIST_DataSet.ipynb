{
  "nbformat": 4,
  "nbformat_minor": 0,
  "metadata": {
    "colab": {
      "name": "Getting Started with TensorFlow 2.0 MNIST DataSet.ipynb",
      "provenance": [],
      "collapsed_sections": []
    },
    "kernelspec": {
      "name": "python3",
      "display_name": "Python 3"
    }
  },
  "cells": [
    {
      "cell_type": "code",
      "metadata": {
        "colab": {
          "base_uri": "https://localhost:8080/"
        },
        "id": "9wd2IFyUhHWA",
        "outputId": "566e3da3-19f5-4489-b058-79d84b3abe87"
      },
      "source": [
        "import tensorflow as tf\r\n",
        "print(\"TensorFlow Version used : \",tf.__version__)"
      ],
      "execution_count": 8,
      "outputs": [
        {
          "output_type": "stream",
          "text": [
            "TensorFlow Version used :  2.4.0\n"
          ],
          "name": "stdout"
        }
      ]
    },
    {
      "cell_type": "markdown",
      "metadata": {
        "id": "mdXNSP6Sh3OS"
      },
      "source": [
        "## **Input Data**"
      ]
    },
    {
      "cell_type": "code",
      "metadata": {
        "id": "aVmn9Qn5huex"
      },
      "source": [
        "num_classes = 10 ##Definig Number of Output Classes\r\n",
        "img_rows, img_cols = 28, 28 ##Dimensions of the Images\r\n",
        "num_channels = 1 # 1 for Black and White Image\r\n",
        "input_shape = (img_rows, img_cols, num_channels) #Feeding the Parameters\r\n",
        "\r\n",
        "(x_train, y_train),(x_test, y_test) = tf.keras.datasets.mnist.load_data() #Loading the Dataset\r\n",
        "x_train, x_test = x_train / 255.0, x_test / 255.0 #Splitting the Dataset and Normalizing Pixel Range into 0 and 1"
      ],
      "execution_count": 9,
      "outputs": []
    },
    {
      "cell_type": "markdown",
      "metadata": {
        "id": "ysHr0Z2RjZLl"
      },
      "source": [
        "# **Building a simple model**"
      ]
    },
    {
      "cell_type": "code",
      "metadata": {
        "id": "UjdEx8fBjVPd"
      },
      "source": [
        "model = tf.keras.models.Sequential() # Sequential for linear stack of layers\r\n",
        "model.add(tf.keras.layers.Flatten())  # Turn 2D into 1D/Scalar Matrix\r\n",
        "model.add(tf.keras.layers.Dense(128, activation='relu')) # Turn into 100,480 128*784 and bias of 784\r\n",
        "model.add(tf.keras.layers.Dense(num_classes, activation='softmax')) #Output of 10 Class and Softmax as Activation for Predicting the Probability"
      ],
      "execution_count": 10,
      "outputs": []
    },
    {
      "cell_type": "markdown",
      "metadata": {
        "id": "2o8d2nsDisPp"
      },
      "source": [
        "# Train the Data"
      ]
    },
    {
      "cell_type": "code",
      "metadata": {
        "colab": {
          "base_uri": "https://localhost:8080/"
        },
        "id": "Xq_jVPoliAin",
        "outputId": "b4727dc7-6eb5-45e8-8f2f-1c7966f02aa6"
      },
      "source": [
        "model.compile(optimizer='sgd',\r\n",
        "              loss='sparse_categorical_crossentropy',\r\n",
        "              metrics=['accuracy']) #Optimizer = SGD for Minimizing the Loss\r\n",
        "                                    #Loss = For Mutually Exclusive Class\r\n",
        "                                    #Metrics = More info about the model\r\n",
        "callbacks = [tf.keras.callbacks.TensorBoard('./keras')] #Enable visualizations for TensorBoard\r\n",
        "model.fit(x_train, y_train, epochs=25, verbose=1, validation_data=(x_test, y_test), callbacks=callbacks) #Fit the Data"
      ],
      "execution_count": 12,
      "outputs": [
        {
          "output_type": "stream",
          "text": [
            "Epoch 1/25\n",
            "1875/1875 [==============================] - 4s 2ms/step - loss: 0.9895 - accuracy: 0.7512 - val_loss: 0.3511 - val_accuracy: 0.9050\n",
            "Epoch 2/25\n",
            "1875/1875 [==============================] - 4s 2ms/step - loss: 0.3528 - accuracy: 0.9029 - val_loss: 0.2909 - val_accuracy: 0.9187\n",
            "Epoch 3/25\n",
            "1875/1875 [==============================] - 3s 2ms/step - loss: 0.2903 - accuracy: 0.9198 - val_loss: 0.2581 - val_accuracy: 0.9278\n",
            "Epoch 4/25\n",
            "1875/1875 [==============================] - 4s 2ms/step - loss: 0.2563 - accuracy: 0.9288 - val_loss: 0.2352 - val_accuracy: 0.9342\n",
            "Epoch 5/25\n",
            "1875/1875 [==============================] - 4s 2ms/step - loss: 0.2296 - accuracy: 0.9361 - val_loss: 0.2168 - val_accuracy: 0.9373\n",
            "Epoch 6/25\n",
            "1875/1875 [==============================] - 3s 2ms/step - loss: 0.2156 - accuracy: 0.9402 - val_loss: 0.2017 - val_accuracy: 0.9427\n",
            "Epoch 7/25\n",
            "1875/1875 [==============================] - 4s 2ms/step - loss: 0.2016 - accuracy: 0.9442 - val_loss: 0.1899 - val_accuracy: 0.9445\n",
            "Epoch 8/25\n",
            "1875/1875 [==============================] - 4s 2ms/step - loss: 0.1794 - accuracy: 0.9504 - val_loss: 0.1778 - val_accuracy: 0.9471\n",
            "Epoch 9/25\n",
            "1875/1875 [==============================] - 4s 2ms/step - loss: 0.1777 - accuracy: 0.9508 - val_loss: 0.1677 - val_accuracy: 0.9501\n",
            "Epoch 10/25\n",
            "1875/1875 [==============================] - 3s 2ms/step - loss: 0.1662 - accuracy: 0.9537 - val_loss: 0.1591 - val_accuracy: 0.9532\n",
            "Epoch 11/25\n",
            "1875/1875 [==============================] - 4s 2ms/step - loss: 0.1523 - accuracy: 0.9583 - val_loss: 0.1533 - val_accuracy: 0.9541\n",
            "Epoch 12/25\n",
            "1875/1875 [==============================] - 4s 2ms/step - loss: 0.1473 - accuracy: 0.9588 - val_loss: 0.1467 - val_accuracy: 0.9560\n",
            "Epoch 13/25\n",
            "1875/1875 [==============================] - 3s 2ms/step - loss: 0.1422 - accuracy: 0.9601 - val_loss: 0.1415 - val_accuracy: 0.9590\n",
            "Epoch 14/25\n",
            "1875/1875 [==============================] - 4s 2ms/step - loss: 0.1293 - accuracy: 0.9644 - val_loss: 0.1361 - val_accuracy: 0.9611\n",
            "Epoch 15/25\n",
            "1875/1875 [==============================] - 3s 2ms/step - loss: 0.1271 - accuracy: 0.9644 - val_loss: 0.1316 - val_accuracy: 0.9619\n",
            "Epoch 16/25\n",
            "1875/1875 [==============================] - 3s 2ms/step - loss: 0.1219 - accuracy: 0.9663 - val_loss: 0.1267 - val_accuracy: 0.9639\n",
            "Epoch 17/25\n",
            "1875/1875 [==============================] - 4s 2ms/step - loss: 0.1156 - accuracy: 0.9685 - val_loss: 0.1226 - val_accuracy: 0.9643\n",
            "Epoch 18/25\n",
            "1875/1875 [==============================] - 5s 2ms/step - loss: 0.1111 - accuracy: 0.9701 - val_loss: 0.1193 - val_accuracy: 0.9659\n",
            "Epoch 19/25\n",
            "1875/1875 [==============================] - 4s 2ms/step - loss: 0.1078 - accuracy: 0.9705 - val_loss: 0.1163 - val_accuracy: 0.9665\n",
            "Epoch 20/25\n",
            "1875/1875 [==============================] - 4s 2ms/step - loss: 0.1067 - accuracy: 0.9708 - val_loss: 0.1139 - val_accuracy: 0.9670\n",
            "Epoch 21/25\n",
            "1875/1875 [==============================] - 4s 2ms/step - loss: 0.1029 - accuracy: 0.9718 - val_loss: 0.1116 - val_accuracy: 0.9671\n",
            "Epoch 22/25\n",
            "1875/1875 [==============================] - 4s 2ms/step - loss: 0.0987 - accuracy: 0.9740 - val_loss: 0.1080 - val_accuracy: 0.9682\n",
            "Epoch 23/25\n",
            "1875/1875 [==============================] - 4s 2ms/step - loss: 0.0917 - accuracy: 0.9748 - val_loss: 0.1065 - val_accuracy: 0.9693\n",
            "Epoch 24/25\n",
            "1875/1875 [==============================] - 3s 2ms/step - loss: 0.0876 - accuracy: 0.9772 - val_loss: 0.1041 - val_accuracy: 0.9708\n",
            "Epoch 25/25\n",
            "1875/1875 [==============================] - 3s 2ms/step - loss: 0.0900 - accuracy: 0.9754 - val_loss: 0.1015 - val_accuracy: 0.9703\n"
          ],
          "name": "stdout"
        },
        {
          "output_type": "execute_result",
          "data": {
            "text/plain": [
              "<tensorflow.python.keras.callbacks.History at 0x7fa19138f3c8>"
            ]
          },
          "metadata": {
            "tags": []
          },
          "execution_count": 12
        }
      ]
    },
    {
      "cell_type": "code",
      "metadata": {
        "colab": {
          "base_uri": "https://localhost:8080/"
        },
        "id": "oij2Wr0IjeNX",
        "outputId": "34ef2724-6de4-4de8-b0e9-d17ca2e45222"
      },
      "source": [
        "model.summary()"
      ],
      "execution_count": 13,
      "outputs": [
        {
          "output_type": "stream",
          "text": [
            "Model: \"sequential_1\"\n",
            "_________________________________________________________________\n",
            "Layer (type)                 Output Shape              Param #   \n",
            "=================================================================\n",
            "flatten_1 (Flatten)          (None, 784)               0         \n",
            "_________________________________________________________________\n",
            "dense_2 (Dense)              (None, 128)               100480    \n",
            "_________________________________________________________________\n",
            "dense_3 (Dense)              (None, 10)                1290      \n",
            "=================================================================\n",
            "Total params: 101,770\n",
            "Trainable params: 101,770\n",
            "Non-trainable params: 0\n",
            "_________________________________________________________________\n"
          ],
          "name": "stdout"
        }
      ]
    },
    {
      "cell_type": "code",
      "metadata": {
        "id": "rlLrKPLFkGDi"
      },
      "source": [
        ""
      ],
      "execution_count": null,
      "outputs": []
    }
  ]
}